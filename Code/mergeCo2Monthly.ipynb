{
 "cells": [
  {
   "cell_type": "code",
   "execution_count": 9,
   "metadata": {},
   "outputs": [],
   "source": [
    "import csv\n",
    "import os\n",
    "import pandas as pd"
   ]
  },
  {
   "cell_type": "code",
   "execution_count": 41,
   "metadata": {},
   "outputs": [],
   "source": [
    "filePath = \"..\\datasets\\CO2\\surface\\Month\"\n",
    "CountryFile = \"..\\datasets\\CO2\\stations_Country_latest.csv\""
   ]
  },
  {
   "cell_type": "code",
   "execution_count": 42,
   "metadata": {},
   "outputs": [
    {
     "data": {
      "text/plain": [
       "95"
      ]
     },
     "execution_count": 42,
     "metadata": {},
     "output_type": "execute_result"
    }
   ],
   "source": [
    "fileList = []\n",
    "# Read the dir and list the name of the files\n",
    "for root, dirs, files in os.walk(filePath):\n",
    "    for name in files:\n",
    "        if(name not in fileList):\n",
    "            fileList.append(name)\n",
    "\n",
    "len(fileList)\n"
   ]
  },
  {
   "cell_type": "code",
   "execution_count": 43,
   "metadata": {},
   "outputs": [
    {
     "data": {
      "text/plain": [
       "0    22957\n",
       "1    22957\n",
       "2    22957\n",
       "3    22957\n",
       "dtype: int64"
      ]
     },
     "execution_count": 43,
     "metadata": {},
     "output_type": "execute_result"
    }
   ],
   "source": [
    "txtData = []\n",
    "CO2Data = pd.DataFrame()\n",
    "\n",
    "for i, f in enumerate(fileList):\n",
    "    with(open(f\"{filePath}\\{f}\", \"r\")) as txtFile:\n",
    "        txtData = txtFile.read().splitlines()\n",
    "    \n",
    "    tmpList = [l.replace(\" \",\"\") for l in txtData[int(txtData[0].rsplit(\" \", 1)[1]):]]\n",
    "    tmpList = [[l[:3],l[3:7],l[7:9],l[9:]] for l in tmpList]\n",
    "    \n",
    "       \n",
    "    CO2Data = CO2Data.append(tmpList)\n",
    "    \n",
    "CO2Data.count()"
   ]
  },
  {
   "cell_type": "code",
   "execution_count": 44,
   "metadata": {
    "scrolled": true
   },
   "outputs": [
    {
     "data": {
      "text/html": [
       "<div>\n",
       "<style scoped>\n",
       "    .dataframe tbody tr th:only-of-type {\n",
       "        vertical-align: middle;\n",
       "    }\n",
       "\n",
       "    .dataframe tbody tr th {\n",
       "        vertical-align: top;\n",
       "    }\n",
       "\n",
       "    .dataframe thead th {\n",
       "        text-align: right;\n",
       "    }\n",
       "</style>\n",
       "<table border=\"1\" class=\"dataframe\">\n",
       "  <thead>\n",
       "    <tr style=\"text-align: right;\">\n",
       "      <th></th>\n",
       "      <th>Code</th>\n",
       "      <th>year</th>\n",
       "      <th>month</th>\n",
       "      <th>CO2Value</th>\n",
       "    </tr>\n",
       "  </thead>\n",
       "  <tbody>\n",
       "    <tr>\n",
       "      <th>0</th>\n",
       "      <td>ABP</td>\n",
       "      <td>2006</td>\n",
       "      <td>10</td>\n",
       "      <td>380.72</td>\n",
       "    </tr>\n",
       "    <tr>\n",
       "      <th>1</th>\n",
       "      <td>ABP</td>\n",
       "      <td>2006</td>\n",
       "      <td>11</td>\n",
       "      <td>380.82</td>\n",
       "    </tr>\n",
       "    <tr>\n",
       "      <th>2</th>\n",
       "      <td>ABP</td>\n",
       "      <td>2006</td>\n",
       "      <td>12</td>\n",
       "      <td>380.92</td>\n",
       "    </tr>\n",
       "    <tr>\n",
       "      <th>3</th>\n",
       "      <td>ABP</td>\n",
       "      <td>2007</td>\n",
       "      <td>13</td>\n",
       "      <td>81.02</td>\n",
       "    </tr>\n",
       "    <tr>\n",
       "      <th>4</th>\n",
       "      <td>ABP</td>\n",
       "      <td>2007</td>\n",
       "      <td>23</td>\n",
       "      <td>81.09</td>\n",
       "    </tr>\n",
       "  </tbody>\n",
       "</table>\n",
       "</div>"
      ],
      "text/plain": [
       "  Code  year month CO2Value\n",
       "0  ABP  2006    10   380.72\n",
       "1  ABP  2006    11   380.82\n",
       "2  ABP  2006    12   380.92\n",
       "3  ABP  2007    13    81.02\n",
       "4  ABP  2007    23    81.09"
      ]
     },
     "execution_count": 44,
     "metadata": {},
     "output_type": "execute_result"
    }
   ],
   "source": [
    "CO2Data.rename(columns = {0 : 'Code',1 : 'year',2 :'month',3 :'CO2Value'}, inplace = True)\n",
    "CO2Data.head()\n"
   ]
  },
  {
   "cell_type": "code",
   "execution_count": 45,
   "metadata": {},
   "outputs": [
    {
     "name": "stdout",
     "output_type": "stream",
     "text": [
      "data from 1968 to 2017\n"
     ]
    }
   ],
   "source": [
    "print(f\"data from {CO2Data['year'].min()} to {CO2Data['year'].max()}\")\n"
   ]
  },
  {
   "cell_type": "code",
   "execution_count": 46,
   "metadata": {},
   "outputs": [
    {
     "data": {
      "text/html": [
       "<div>\n",
       "<style scoped>\n",
       "    .dataframe tbody tr th:only-of-type {\n",
       "        vertical-align: middle;\n",
       "    }\n",
       "\n",
       "    .dataframe tbody tr th {\n",
       "        vertical-align: top;\n",
       "    }\n",
       "\n",
       "    .dataframe thead th {\n",
       "        text-align: right;\n",
       "    }\n",
       "</style>\n",
       "<table border=\"1\" class=\"dataframe\">\n",
       "  <thead>\n",
       "    <tr style=\"text-align: right;\">\n",
       "      <th></th>\n",
       "      <th>Code</th>\n",
       "      <th>Name</th>\n",
       "      <th>Country</th>\n",
       "      <th>Latitude</th>\n",
       "      <th>Longitude</th>\n",
       "      <th>Elevation (meters)</th>\n",
       "      <th>Time from GMT</th>\n",
       "    </tr>\n",
       "  </thead>\n",
       "  <tbody>\n",
       "    <tr>\n",
       "      <th>0</th>\n",
       "      <td>AAO</td>\n",
       "      <td>Airborne Aerosol Observatory, Bondville, Illinois</td>\n",
       "      <td>United States</td>\n",
       "      <td>40.050</td>\n",
       "      <td>-88.370</td>\n",
       "      <td>230.0</td>\n",
       "      <td>-6 hours</td>\n",
       "    </tr>\n",
       "    <tr>\n",
       "      <th>1</th>\n",
       "      <td>ABP</td>\n",
       "      <td>Arembepe, Bahia</td>\n",
       "      <td>Brazil</td>\n",
       "      <td>-12.770</td>\n",
       "      <td>-38.170</td>\n",
       "      <td>1.0</td>\n",
       "      <td>-3 hours</td>\n",
       "    </tr>\n",
       "    <tr>\n",
       "      <th>2</th>\n",
       "      <td>ABQ</td>\n",
       "      <td>Albuquerque, New Mexico</td>\n",
       "      <td>United States</td>\n",
       "      <td>35.038</td>\n",
       "      <td>-106.622</td>\n",
       "      <td>1617.0</td>\n",
       "      <td>-7 hours</td>\n",
       "    </tr>\n",
       "    <tr>\n",
       "      <th>3</th>\n",
       "      <td>ACG</td>\n",
       "      <td>Alaska Coast Guard</td>\n",
       "      <td>United States</td>\n",
       "      <td>65.000</td>\n",
       "      <td>-165.000</td>\n",
       "      <td>0.0</td>\n",
       "      <td>-8 hours</td>\n",
       "    </tr>\n",
       "    <tr>\n",
       "      <th>4</th>\n",
       "      <td>ALT</td>\n",
       "      <td>Alert, Nunavut</td>\n",
       "      <td>Canada</td>\n",
       "      <td>82.451</td>\n",
       "      <td>-62.507</td>\n",
       "      <td>190.0</td>\n",
       "      <td>-4 hours</td>\n",
       "    </tr>\n",
       "  </tbody>\n",
       "</table>\n",
       "</div>"
      ],
      "text/plain": [
       "  Code                                               Name        Country  \\\n",
       "0  AAO  Airborne Aerosol Observatory, Bondville, Illinois  United States   \n",
       "1  ABP                                    Arembepe, Bahia         Brazil   \n",
       "2  ABQ                            Albuquerque, New Mexico  United States   \n",
       "3  ACG                                 Alaska Coast Guard  United States   \n",
       "4  ALT                                     Alert, Nunavut         Canada   \n",
       "\n",
       "   Latitude  Longitude  Elevation (meters) Time from GMT  \n",
       "0    40.050    -88.370               230.0      -6 hours  \n",
       "1   -12.770    -38.170                 1.0      -3 hours  \n",
       "2    35.038   -106.622              1617.0      -7 hours  \n",
       "3    65.000   -165.000                 0.0      -8 hours  \n",
       "4    82.451    -62.507               190.0      -4 hours  "
      ]
     },
     "execution_count": 46,
     "metadata": {},
     "output_type": "execute_result"
    }
   ],
   "source": [
    "# Lookup COuntry and Add it to CO2 Data\n",
    "\n",
    "ctry_stat = pd.read_csv(CountryFile)\n",
    "ctry_stat.head()\n"
   ]
  },
  {
   "cell_type": "code",
   "execution_count": 47,
   "metadata": {},
   "outputs": [],
   "source": [
    "CO2Data_exp = pd.merge(CO2Data, ctry_stat, how = 'inner', on = 'Code')"
   ]
  },
  {
   "cell_type": "code",
   "execution_count": 48,
   "metadata": {},
   "outputs": [
    {
     "data": {
      "text/html": [
       "<div>\n",
       "<style scoped>\n",
       "    .dataframe tbody tr th:only-of-type {\n",
       "        vertical-align: middle;\n",
       "    }\n",
       "\n",
       "    .dataframe tbody tr th {\n",
       "        vertical-align: top;\n",
       "    }\n",
       "\n",
       "    .dataframe thead th {\n",
       "        text-align: right;\n",
       "    }\n",
       "</style>\n",
       "<table border=\"1\" class=\"dataframe\">\n",
       "  <thead>\n",
       "    <tr style=\"text-align: right;\">\n",
       "      <th></th>\n",
       "      <th>Code</th>\n",
       "      <th>year</th>\n",
       "      <th>month</th>\n",
       "      <th>CO2Value</th>\n",
       "      <th>Name</th>\n",
       "      <th>Country</th>\n",
       "      <th>Latitude</th>\n",
       "      <th>Longitude</th>\n",
       "      <th>Elevation (meters)</th>\n",
       "      <th>Time from GMT</th>\n",
       "    </tr>\n",
       "  </thead>\n",
       "  <tbody>\n",
       "    <tr>\n",
       "      <th>0</th>\n",
       "      <td>ABP</td>\n",
       "      <td>2006</td>\n",
       "      <td>10</td>\n",
       "      <td>380.72</td>\n",
       "      <td>Arembepe, Bahia</td>\n",
       "      <td>Brazil</td>\n",
       "      <td>-12.77</td>\n",
       "      <td>-38.17</td>\n",
       "      <td>1.0</td>\n",
       "      <td>-3 hours</td>\n",
       "    </tr>\n",
       "    <tr>\n",
       "      <th>1</th>\n",
       "      <td>ABP</td>\n",
       "      <td>2006</td>\n",
       "      <td>11</td>\n",
       "      <td>380.82</td>\n",
       "      <td>Arembepe, Bahia</td>\n",
       "      <td>Brazil</td>\n",
       "      <td>-12.77</td>\n",
       "      <td>-38.17</td>\n",
       "      <td>1.0</td>\n",
       "      <td>-3 hours</td>\n",
       "    </tr>\n",
       "    <tr>\n",
       "      <th>2</th>\n",
       "      <td>ABP</td>\n",
       "      <td>2006</td>\n",
       "      <td>12</td>\n",
       "      <td>380.92</td>\n",
       "      <td>Arembepe, Bahia</td>\n",
       "      <td>Brazil</td>\n",
       "      <td>-12.77</td>\n",
       "      <td>-38.17</td>\n",
       "      <td>1.0</td>\n",
       "      <td>-3 hours</td>\n",
       "    </tr>\n",
       "    <tr>\n",
       "      <th>3</th>\n",
       "      <td>ABP</td>\n",
       "      <td>2007</td>\n",
       "      <td>13</td>\n",
       "      <td>81.02</td>\n",
       "      <td>Arembepe, Bahia</td>\n",
       "      <td>Brazil</td>\n",
       "      <td>-12.77</td>\n",
       "      <td>-38.17</td>\n",
       "      <td>1.0</td>\n",
       "      <td>-3 hours</td>\n",
       "    </tr>\n",
       "    <tr>\n",
       "      <th>4</th>\n",
       "      <td>ABP</td>\n",
       "      <td>2007</td>\n",
       "      <td>23</td>\n",
       "      <td>81.09</td>\n",
       "      <td>Arembepe, Bahia</td>\n",
       "      <td>Brazil</td>\n",
       "      <td>-12.77</td>\n",
       "      <td>-38.17</td>\n",
       "      <td>1.0</td>\n",
       "      <td>-3 hours</td>\n",
       "    </tr>\n",
       "  </tbody>\n",
       "</table>\n",
       "</div>"
      ],
      "text/plain": [
       "  Code  year month CO2Value             Name Country  Latitude  Longitude  \\\n",
       "0  ABP  2006    10   380.72  Arembepe, Bahia  Brazil    -12.77     -38.17   \n",
       "1  ABP  2006    11   380.82  Arembepe, Bahia  Brazil    -12.77     -38.17   \n",
       "2  ABP  2006    12   380.92  Arembepe, Bahia  Brazil    -12.77     -38.17   \n",
       "3  ABP  2007    13    81.02  Arembepe, Bahia  Brazil    -12.77     -38.17   \n",
       "4  ABP  2007    23    81.09  Arembepe, Bahia  Brazil    -12.77     -38.17   \n",
       "\n",
       "   Elevation (meters) Time from GMT  \n",
       "0                 1.0      -3 hours  \n",
       "1                 1.0      -3 hours  \n",
       "2                 1.0      -3 hours  \n",
       "3                 1.0      -3 hours  \n",
       "4                 1.0      -3 hours  "
      ]
     },
     "execution_count": 48,
     "metadata": {},
     "output_type": "execute_result"
    }
   ],
   "source": [
    "CO2Data_exp.head() "
   ]
  },
  {
   "cell_type": "code",
   "execution_count": 49,
   "metadata": {},
   "outputs": [],
   "source": [
    "CO2Data_exp.to_csv(\"..\\datasets\\CO2\\CO2_Data.csv\")"
   ]
  },
  {
   "cell_type": "code",
   "execution_count": null,
   "metadata": {},
   "outputs": [],
   "source": []
  }
 ],
 "metadata": {
  "kernelspec": {
   "display_name": "Python 3",
   "language": "python",
   "name": "python3"
  },
  "language_info": {
   "codemirror_mode": {
    "name": "ipython",
    "version": 3
   },
   "file_extension": ".py",
   "mimetype": "text/x-python",
   "name": "python",
   "nbconvert_exporter": "python",
   "pygments_lexer": "ipython3",
   "version": "3.7.0"
  }
 },
 "nbformat": 4,
 "nbformat_minor": 2
}
