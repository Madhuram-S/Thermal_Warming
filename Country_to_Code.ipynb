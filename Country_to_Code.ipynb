{
 "cells": [
  {
   "cell_type": "code",
   "execution_count": 1,
   "metadata": {},
   "outputs": [],
   "source": [
    "import csv\n",
    "import pandas as pd\n",
    "import numpy as np\n",
    "import pycountry"
   ]
  },
  {
   "cell_type": "code",
   "execution_count": 2,
   "metadata": {},
   "outputs": [
    {
     "data": {
      "text/html": [
       "<div>\n",
       "<style scoped>\n",
       "    .dataframe tbody tr th:only-of-type {\n",
       "        vertical-align: middle;\n",
       "    }\n",
       "\n",
       "    .dataframe tbody tr th {\n",
       "        vertical-align: top;\n",
       "    }\n",
       "\n",
       "    .dataframe thead th {\n",
       "        text-align: right;\n",
       "    }\n",
       "</style>\n",
       "<table border=\"1\" class=\"dataframe\">\n",
       "  <thead>\n",
       "    <tr style=\"text-align: right;\">\n",
       "      <th></th>\n",
       "      <th>Country</th>\n",
       "      <th>Year</th>\n",
       "      <th>Jan</th>\n",
       "      <th>Feb</th>\n",
       "      <th>Mar</th>\n",
       "      <th>Apr</th>\n",
       "      <th>May</th>\n",
       "      <th>Jun</th>\n",
       "      <th>Jul</th>\n",
       "      <th>Aug</th>\n",
       "      <th>Sep</th>\n",
       "      <th>Oct</th>\n",
       "      <th>Nov</th>\n",
       "      <th>Dec</th>\n",
       "    </tr>\n",
       "  </thead>\n",
       "  <tbody>\n",
       "    <tr>\n",
       "      <th>0</th>\n",
       "      <td>ALGERIA</td>\n",
       "      <td>1975</td>\n",
       "      <td>8.9</td>\n",
       "      <td>10.3</td>\n",
       "      <td>12.1</td>\n",
       "      <td>16.4</td>\n",
       "      <td>20.7</td>\n",
       "      <td>23.8</td>\n",
       "      <td>28.5</td>\n",
       "      <td>27.8</td>\n",
       "      <td>24.7</td>\n",
       "      <td>18.9</td>\n",
       "      <td>12.8</td>\n",
       "      <td>10.9</td>\n",
       "    </tr>\n",
       "    <tr>\n",
       "      <th>1</th>\n",
       "      <td>ALGERIA</td>\n",
       "      <td>1976</td>\n",
       "      <td>8.6</td>\n",
       "      <td>10.6</td>\n",
       "      <td>11.3</td>\n",
       "      <td>15.8</td>\n",
       "      <td>19.7</td>\n",
       "      <td>24.9</td>\n",
       "      <td>27.5</td>\n",
       "      <td>25.0</td>\n",
       "      <td>24.2</td>\n",
       "      <td>19.0</td>\n",
       "      <td>11.7</td>\n",
       "      <td>11.1</td>\n",
       "    </tr>\n",
       "    <tr>\n",
       "      <th>2</th>\n",
       "      <td>ALGERIA</td>\n",
       "      <td>1977</td>\n",
       "      <td>11.0</td>\n",
       "      <td>12.4</td>\n",
       "      <td>14.8</td>\n",
       "      <td>16.9</td>\n",
       "      <td>20.0</td>\n",
       "      <td>23.0</td>\n",
       "      <td>28.7</td>\n",
       "      <td>26.0</td>\n",
       "      <td>24.0</td>\n",
       "      <td>19.4</td>\n",
       "      <td>14.0</td>\n",
       "      <td>11.7</td>\n",
       "    </tr>\n",
       "    <tr>\n",
       "      <th>3</th>\n",
       "      <td>ALGERIA</td>\n",
       "      <td>1978</td>\n",
       "      <td>9.1</td>\n",
       "      <td>13.1</td>\n",
       "      <td>13.8</td>\n",
       "      <td>16.9</td>\n",
       "      <td>20.0</td>\n",
       "      <td>25.1</td>\n",
       "      <td>28.1</td>\n",
       "      <td>27.8</td>\n",
       "      <td>24.8</td>\n",
       "      <td>17.8</td>\n",
       "      <td>12.6</td>\n",
       "      <td>12.9</td>\n",
       "    </tr>\n",
       "    <tr>\n",
       "      <th>4</th>\n",
       "      <td>ALGERIA</td>\n",
       "      <td>1979</td>\n",
       "      <td>13.0</td>\n",
       "      <td>12.1</td>\n",
       "      <td>14.4</td>\n",
       "      <td>15.0</td>\n",
       "      <td>21.0</td>\n",
       "      <td>26.5</td>\n",
       "      <td>29.3</td>\n",
       "      <td>29.2</td>\n",
       "      <td>23.8</td>\n",
       "      <td>20.0</td>\n",
       "      <td>11.5</td>\n",
       "      <td>10.2</td>\n",
       "    </tr>\n",
       "  </tbody>\n",
       "</table>\n",
       "</div>"
      ],
      "text/plain": [
       "                                    Country  Year   Jan   Feb   Mar   Apr  \\\n",
       "0  ALGERIA                                   1975   8.9  10.3  12.1  16.4   \n",
       "1  ALGERIA                                   1976   8.6  10.6  11.3  15.8   \n",
       "2  ALGERIA                                   1977  11.0  12.4  14.8  16.9   \n",
       "3  ALGERIA                                   1978   9.1  13.1  13.8  16.9   \n",
       "4  ALGERIA                                   1979  13.0  12.1  14.4  15.0   \n",
       "\n",
       "    May   Jun   Jul   Aug   Sep   Oct   Nov   Dec  \n",
       "0  20.7  23.8  28.5  27.8  24.7  18.9  12.8  10.9  \n",
       "1  19.7  24.9  27.5  25.0  24.2  19.0  11.7  11.1  \n",
       "2  20.0  23.0  28.7  26.0  24.0  19.4  14.0  11.7  \n",
       "3  20.0  25.1  28.1  27.8  24.8  17.8  12.6  12.9  \n",
       "4  21.0  26.5  29.3  29.2  23.8  20.0  11.5  10.2  "
      ]
     },
     "execution_count": 2,
     "metadata": {},
     "output_type": "execute_result"
    }
   ],
   "source": [
    "csv_path = \"https://raw.githubusercontent.com/Madhuram-S/Thermal_Warming/Guy/NaN_Replaced_Temps.csv\"\n",
    "\n",
    "#read csv\n",
    "Country_Names = pd.read_csv(csv_path, low_memory=False)\n",
    "Country_Names.head()"
   ]
  },
  {
   "cell_type": "code",
   "execution_count": 3,
   "metadata": {},
   "outputs": [
    {
     "name": "stdout",
     "output_type": "stream",
     "text": [
      "[{'Aruba': 'AW', 'Afghanistan': 'AF', 'Angola': 'AO', 'Anguilla': 'AI', 'Åland Islands': 'AX', 'Albania': 'AL', 'Andorra': 'AD', 'United Arab Emirates': 'AE', 'Argentina': 'AR', 'Armenia': 'AM', 'American Samoa': 'AS', 'Antarctica': 'AQ', 'French Southern Territories': 'TF', 'Antigua and Barbuda': 'AG', 'Australia': 'AU', 'Austria': 'AT', 'Azerbaijan': 'AZ', 'Burundi': 'BI', 'Belgium': 'BE', 'Benin': 'BJ', 'Bonaire, Sint Eustatius and Saba': 'BQ', 'Burkina Faso': 'BF', 'Bangladesh': 'BD', 'Bulgaria': 'BG', 'Bahrain': 'BH', 'Bahamas': 'BS', 'Bosnia and Herzegovina': 'BA', 'Saint Barthélemy': 'BL', 'Belarus': 'BY', 'Belize': 'BZ', 'Bermuda': 'BM', 'Bolivia, Plurinational State of': 'BO', 'Brazil': 'BR', 'Barbados': 'BB', 'Brunei Darussalam': 'BN', 'Bhutan': 'BT', 'Bouvet Island': 'BV', 'Botswana': 'BW', 'Central African Republic': 'CF', 'Canada': 'CA', 'Cocos (Keeling) Islands': 'CC', 'Switzerland': 'CH', 'Chile': 'CL', 'China': 'CN', \"Côte d'Ivoire\": 'CI', 'Cameroon': 'CM', 'Congo, The Democratic Republic of the': 'CD', 'Congo': 'CG', 'Cook Islands': 'CK', 'Colombia': 'CO', 'Comoros': 'KM', 'Cabo Verde': 'CV', 'Costa Rica': 'CR', 'Cuba': 'CU', 'Curaçao': 'CW', 'Christmas Island': 'CX', 'Cayman Islands': 'KY', 'Cyprus': 'CY', 'Czechia': 'CZ', 'Germany': 'DE', 'Djibouti': 'DJ', 'Dominica': 'DM', 'Denmark': 'DK', 'Dominican Republic': 'DO', 'Algeria': 'DZ', 'Ecuador': 'EC', 'Egypt': 'EG', 'Eritrea': 'ER', 'Western Sahara': 'EH', 'Spain': 'ES', 'Estonia': 'EE', 'Ethiopia': 'ET', 'Finland': 'FI', 'Fiji': 'FJ', 'Falkland Islands (Malvinas)': 'FK', 'France': 'FR', 'Faroe Islands': 'FO', 'Micronesia, Federated States of': 'FM', 'Gabon': 'GA', 'United Kingdom': 'GB', 'Georgia': 'GE', 'Guernsey': 'GG', 'Ghana': 'GH', 'Gibraltar': 'GI', 'Guinea': 'GN', 'Guadeloupe': 'GP', 'Gambia': 'GM', 'Guinea-Bissau': 'GW', 'Equatorial Guinea': 'GQ', 'Greece': 'GR', 'Grenada': 'GD', 'Greenland': 'GL', 'Guatemala': 'GT', 'French Guiana': 'GF', 'Guam': 'GU', 'Guyana': 'GY', 'Hong Kong': 'HK', 'Heard Island and McDonald Islands': 'HM', 'Honduras': 'HN', 'Croatia': 'HR', 'Haiti': 'HT', 'Hungary': 'HU', 'Indonesia': 'ID', 'Isle of Man': 'IM', 'India': 'IN', 'British Indian Ocean Territory': 'IO', 'Ireland': 'IE', 'Iran, Islamic Republic of': 'IR', 'Iraq': 'IQ', 'Iceland': 'IS', 'Israel': 'IL', 'Italy': 'IT', 'Jamaica': 'JM', 'Jersey': 'JE', 'Jordan': 'JO', 'Japan': 'JP', 'Kazakhstan': 'KZ', 'Kenya': 'KE', 'Kyrgyzstan': 'KG', 'Cambodia': 'KH', 'Kiribati': 'KI', 'Saint Kitts and Nevis': 'KN', 'Korea, Republic of': 'KR', 'Kuwait': 'KW', \"Lao People's Democratic Republic\": 'LA', 'Lebanon': 'LB', 'Liberia': 'LR', 'Libya': 'LY', 'Saint Lucia': 'LC', 'Liechtenstein': 'LI', 'Sri Lanka': 'LK', 'Lesotho': 'LS', 'Lithuania': 'LT', 'Luxembourg': 'LU', 'Latvia': 'LV', 'Macao': 'MO', 'Saint Martin (French part)': 'MF', 'Morocco': 'MA', 'Monaco': 'MC', 'Moldova, Republic of': 'MD', 'Madagascar': 'MG', 'Maldives': 'MV', 'Mexico': 'MX', 'Marshall Islands': 'MH', 'Macedonia, Republic of': 'MK', 'Mali': 'ML', 'Malta': 'MT', 'Myanmar': 'MM', 'Montenegro': 'ME', 'Mongolia': 'MN', 'Northern Mariana Islands': 'MP', 'Mozambique': 'MZ', 'Mauritania': 'MR', 'Montserrat': 'MS', 'Martinique': 'MQ', 'Mauritius': 'MU', 'Malawi': 'MW', 'Malaysia': 'MY', 'Mayotte': 'YT', 'Namibia': 'NA', 'New Caledonia': 'NC', 'Niger': 'NE', 'Norfolk Island': 'NF', 'Nigeria': 'NG', 'Nicaragua': 'NI', 'Niue': 'NU', 'Netherlands': 'NL', 'Norway': 'NO', 'Nepal': 'NP', 'Nauru': 'NR', 'New Zealand': 'NZ', 'Oman': 'OM', 'Pakistan': 'PK', 'Panama': 'PA', 'Pitcairn': 'PN', 'Peru': 'PE', 'Philippines': 'PH', 'Palau': 'PW', 'Papua New Guinea': 'PG', 'Poland': 'PL', 'Puerto Rico': 'PR', \"Korea, Democratic People's Republic of\": 'KP', 'Portugal': 'PT', 'Paraguay': 'PY', 'Palestine, State of': 'PS', 'French Polynesia': 'PF', 'Qatar': 'QA', 'Réunion': 'RE', 'Romania': 'RO', 'Russian Federation': 'RU', 'Rwanda': 'RW', 'Saudi Arabia': 'SA', 'Sudan': 'SD', 'Senegal': 'SN', 'Singapore': 'SG', 'South Georgia and the South Sandwich Islands': 'GS', 'Saint Helena, Ascension and Tristan da Cunha': 'SH', 'Svalbard and Jan Mayen': 'SJ', 'Solomon Islands': 'SB', 'Sierra Leone': 'SL', 'El Salvador': 'SV', 'San Marino': 'SM', 'Somalia': 'SO', 'Saint Pierre and Miquelon': 'PM', 'Serbia': 'RS', 'South Sudan': 'SS', 'Sao Tome and Principe': 'ST', 'Suriname': 'SR', 'Slovakia': 'SK', 'Slovenia': 'SI', 'Sweden': 'SE', 'Swaziland': 'SZ', 'Sint Maarten (Dutch part)': 'SX', 'Seychelles': 'SC', 'Syrian Arab Republic': 'SY', 'Turks and Caicos Islands': 'TC', 'Chad': 'TD', 'Togo': 'TG', 'Thailand': 'TH', 'Tajikistan': 'TJ', 'Tokelau': 'TK', 'Turkmenistan': 'TM', 'Timor-Leste': 'TL', 'Tonga': 'TO', 'Trinidad and Tobago': 'TT', 'Tunisia': 'TN', 'Turkey': 'TR', 'Tuvalu': 'TV', 'Taiwan, Province of China': 'TW', 'Tanzania, United Republic of': 'TZ', 'Uganda': 'UG', 'Ukraine': 'UA', 'United States Minor Outlying Islands': 'UM', 'Uruguay': 'UY', 'United States': 'US', 'Uzbekistan': 'UZ', 'Holy See (Vatican City State)': 'VA', 'Saint Vincent and the Grenadines': 'VC', 'Venezuela, Bolivarian Republic of': 'VE', 'Virgin Islands, British': 'VG', 'Virgin Islands, U.S.': 'VI', 'Viet Nam': 'VN', 'Vanuatu': 'VU', 'Wallis and Futuna': 'WF', 'Samoa': 'WS', 'Yemen': 'YE', 'South Africa': 'ZA', 'Zambia': 'ZM', 'Zimbabwe': 'ZW'}]\n"
     ]
    }
   ],
   "source": [
    "input_countries = (['Country'])\n",
    "\n",
    "countries = {}\n",
    "for country in pycountry.countries:\n",
    "    countries[country.name] = country.alpha_2\n",
    "\n",
    "codes = [countries.get(country, countries) for country in input_countries]\n",
    "\n",
    "print(codes)"
   ]
  },
  {
   "cell_type": "code",
   "execution_count": 11,
   "metadata": {},
   "outputs": [
    {
     "ename": "TypeError",
     "evalue": "'list' object is not callable",
     "output_type": "error",
     "traceback": [
      "\u001b[1;31m---------------------------------------------------------------------------\u001b[0m",
      "\u001b[1;31mTypeError\u001b[0m                                 Traceback (most recent call last)",
      "\u001b[1;32m<ipython-input-11-748029033f38>\u001b[0m in \u001b[0;36m<module>\u001b[1;34m()\u001b[0m\n\u001b[1;32m----> 1\u001b[1;33m \u001b[0mCountry_Names\u001b[0m\u001b[1;33m[\u001b[0m\u001b[1;34m'Codes'\u001b[0m\u001b[1;33m]\u001b[0m \u001b[1;33m=\u001b[0m \u001b[0mCountry_Names\u001b[0m\u001b[1;33m[\u001b[0m\u001b[1;34m'Country'\u001b[0m\u001b[1;33m]\u001b[0m\u001b[1;33m.\u001b[0m\u001b[0mmap\u001b[0m\u001b[1;33m(\u001b[0m\u001b[0mcodes\u001b[0m\u001b[1;33m)\u001b[0m\u001b[1;33m\u001b[0m\u001b[0m\n\u001b[0m",
      "\u001b[1;32m~\\AppData\\Local\\Continuum\\anaconda3\\lib\\site-packages\\pandas\\core\\series.py\u001b[0m in \u001b[0;36mmap\u001b[1;34m(self, arg, na_action)\u001b[0m\n\u001b[0;32m   2996\u001b[0m         \"\"\"\n\u001b[0;32m   2997\u001b[0m         new_values = super(Series, self)._map_values(\n\u001b[1;32m-> 2998\u001b[1;33m             arg, na_action=na_action)\n\u001b[0m\u001b[0;32m   2999\u001b[0m         return self._constructor(new_values,\n\u001b[0;32m   3000\u001b[0m                                  index=self.index).__finalize__(self)\n",
      "\u001b[1;32m~\\AppData\\Local\\Continuum\\anaconda3\\lib\\site-packages\\pandas\\core\\base.py\u001b[0m in \u001b[0;36m_map_values\u001b[1;34m(self, mapper, na_action)\u001b[0m\n\u001b[0;32m   1002\u001b[0m \u001b[1;33m\u001b[0m\u001b[0m\n\u001b[0;32m   1003\u001b[0m         \u001b[1;31m# mapper is a function\u001b[0m\u001b[1;33m\u001b[0m\u001b[1;33m\u001b[0m\u001b[0m\n\u001b[1;32m-> 1004\u001b[1;33m         \u001b[0mnew_values\u001b[0m \u001b[1;33m=\u001b[0m \u001b[0mmap_f\u001b[0m\u001b[1;33m(\u001b[0m\u001b[0mvalues\u001b[0m\u001b[1;33m,\u001b[0m \u001b[0mmapper\u001b[0m\u001b[1;33m)\u001b[0m\u001b[1;33m\u001b[0m\u001b[0m\n\u001b[0m\u001b[0;32m   1005\u001b[0m \u001b[1;33m\u001b[0m\u001b[0m\n\u001b[0;32m   1006\u001b[0m         \u001b[1;32mreturn\u001b[0m \u001b[0mnew_values\u001b[0m\u001b[1;33m\u001b[0m\u001b[0m\n",
      "\u001b[1;32mpandas/_libs/src\\inference.pyx\u001b[0m in \u001b[0;36mpandas._libs.lib.map_infer\u001b[1;34m()\u001b[0m\n",
      "\u001b[1;31mTypeError\u001b[0m: 'list' object is not callable"
     ]
    }
   ],
   "source": [
    "Country_Names['Codes'] = Country_Names['Country'].map(codes)"
   ]
  }
 ],
 "metadata": {
  "kernelspec": {
   "display_name": "Python 3",
   "language": "python",
   "name": "python3"
  },
  "language_info": {
   "codemirror_mode": {
    "name": "ipython",
    "version": 3
   },
   "file_extension": ".py",
   "mimetype": "text/x-python",
   "name": "python",
   "nbconvert_exporter": "python",
   "pygments_lexer": "ipython3",
   "version": "3.7.0"
  }
 },
 "nbformat": 4,
 "nbformat_minor": 2
}
